{
 "cells": [
  {
   "cell_type": "markdown",
   "metadata": {},
   "source": [
    "## Let's build a simple Pony classifier from scratch"
   ]
  },
  {
   "cell_type": "markdown",
   "metadata": {},
   "source": [
    "Below we will explore a simple strategy around build a Convolutional Neural Network from scratch using the data we have. Sadly, I don't have access to Hasbro's image assets, so will work with a fairly small dataset.\n",
    "\n",
    "Disclaimer: We kind of expect our results to be not so great! Deep Learning learns representations from LOTS OF DATA!\n",
    "\n",
    "However, we will look at other possible strategies to improve this baseline."
   ]
  },
  {
   "cell_type": "markdown",
   "metadata": {},
   "source": [
    "To start let's confirm we have our dataset. As mentioned earlier, I used a Python script from the Google Images Download [repository](https://github.com/hardikvasa/google-images-download) to get some samples. I store them locally in the /images/pony folder: "
   ]
  },
  {
   "cell_type": "markdown",
   "metadata": {},
   "source": [
    "Let's start building a Pony Classifier CNN. Our images are downloaded and prepared to be of size (150px, 150px)"
   ]
  },
  {
   "cell_type": "code",
   "execution_count": 1,
   "metadata": {},
   "outputs": [
    {
     "name": "stderr",
     "output_type": "stream",
     "text": [
      "Using TensorFlow backend.\n"
     ]
    }
   ],
   "source": [
    "import warnings\n",
    "warnings.filterwarnings('ignore')\n",
    "\n",
    "from keras import layers\n",
    "from keras import models\n",
    "\n",
    "model = models.Sequential()\n",
    "model.add(layers.Conv2D(32, (3, 3), activation='relu', input_shape=(150, 150, 3)))\n",
    "model.add(layers.MaxPooling2D((2, 2)))\n",
    "model.add(layers.Conv2D(64, (3, 3), activation='relu'))\n",
    "model.add(layers.MaxPooling2D((2, 2)))\n",
    "model.add(layers.Conv2D(128, (3, 3), activation='relu'))\n",
    "model.add(layers.MaxPooling2D((2, 2)))\n",
    "model.add(layers.Conv2D(128, (3, 3), activation='relu'))\n",
    "model.add(layers.MaxPooling2D((2, 2)))\n",
    "model.add(layers.Flatten())\n",
    "model.add(layers.Dense(512, activation='relu'))\n",
    "model.add(layers.Dense(3, activation='softmax'))"
   ]
  },
  {
   "cell_type": "code",
   "execution_count": 2,
   "metadata": {},
   "outputs": [
    {
     "name": "stdout",
     "output_type": "stream",
     "text": [
      "_________________________________________________________________\n",
      "Layer (type)                 Output Shape              Param #   \n",
      "=================================================================\n",
      "conv2d_1 (Conv2D)            (None, 148, 148, 32)      896       \n",
      "_________________________________________________________________\n",
      "max_pooling2d_1 (MaxPooling2 (None, 74, 74, 32)        0         \n",
      "_________________________________________________________________\n",
      "conv2d_2 (Conv2D)            (None, 72, 72, 64)        18496     \n",
      "_________________________________________________________________\n",
      "max_pooling2d_2 (MaxPooling2 (None, 36, 36, 64)        0         \n",
      "_________________________________________________________________\n",
      "conv2d_3 (Conv2D)            (None, 34, 34, 128)       73856     \n",
      "_________________________________________________________________\n",
      "max_pooling2d_3 (MaxPooling2 (None, 17, 17, 128)       0         \n",
      "_________________________________________________________________\n",
      "conv2d_4 (Conv2D)            (None, 15, 15, 128)       147584    \n",
      "_________________________________________________________________\n",
      "max_pooling2d_4 (MaxPooling2 (None, 7, 7, 128)         0         \n",
      "_________________________________________________________________\n",
      "flatten_1 (Flatten)          (None, 6272)              0         \n",
      "_________________________________________________________________\n",
      "dense_1 (Dense)              (None, 512)               3211776   \n",
      "_________________________________________________________________\n",
      "dense_2 (Dense)              (None, 3)                 1539      \n",
      "=================================================================\n",
      "Total params: 3,454,147\n",
      "Trainable params: 3,454,147\n",
      "Non-trainable params: 0\n",
      "_________________________________________________________________\n"
     ]
    }
   ],
   "source": [
    "model.summary()"
   ]
  },
  {
   "cell_type": "code",
   "execution_count": 3,
   "metadata": {},
   "outputs": [],
   "source": [
    "from keras import optimizers\n",
    "model.compile(loss = 'categorical_crossentropy', optimizer = optimizers.RMSprop(lr=1e-4), metrics=['acc'])"
   ]
  },
  {
   "cell_type": "markdown",
   "metadata": {},
   "source": [
    "### Data Preprocessing"
   ]
  },
  {
   "cell_type": "markdown",
   "metadata": {},
   "source": [
    "We know that data should be formatted appropriately before being fed into the network. At this point we have a bunch of image files (jpeg, png, etc.) sitting on Azure blob storage. So we need to perform a few steps before these could be used for training and testing.\n",
    "1. Read a file\n",
    "2. Decode its content to RGB grid of pixels\n",
    "3. Convert those into floating-point multi-dimensional arrays (or tensors)\n",
    "4. Rescale pixel values (between 0 and 255) to the [0,1] interval\n",
    "\n",
    "In Keras we could use ImageDataGenerator object to perform these steps as shown below:"
   ]
  },
  {
   "cell_type": "code",
   "execution_count": 4,
   "metadata": {},
   "outputs": [
    {
     "name": "stdout",
     "output_type": "stream",
     "text": [
      "Found 225 images belonging to 3 classes.\n",
      "Found 81 images belonging to 3 classes.\n"
     ]
    }
   ],
   "source": [
    "from keras.preprocessing.image import ImageDataGenerator\n",
    "\n",
    "train_dir = 'images/ponies/train'\n",
    "validation_dir = 'images/ponies/validate'\n",
    "\n",
    "train_datagen = ImageDataGenerator(\n",
    "        rescale=1./255,\n",
    "        shear_range=0.2,\n",
    "        zoom_range=0.2,\n",
    "        horizontal_flip=True)\n",
    "\n",
    "test_datagen = ImageDataGenerator(rescale=1./255)\n",
    "\n",
    "train_generator = train_datagen.flow_from_directory(\n",
    "        train_dir,\n",
    "        target_size=(150, 150),\n",
    "        batch_size=16,\n",
    "        class_mode='categorical')\n",
    "\n",
    "validation_generator = test_datagen.flow_from_directory(\n",
    "        validation_dir,\n",
    "        target_size=(150, 150),\n",
    "        batch_size=16,\n",
    "        class_mode='categorical')"
   ]
  },
  {
   "cell_type": "code",
   "execution_count": 5,
   "metadata": {},
   "outputs": [
    {
     "name": "stdout",
     "output_type": "stream",
     "text": [
      "data batch shape: (16, 150, 150, 3)\n",
      "labels batch shape: (16, 3)\n"
     ]
    }
   ],
   "source": [
    "for data_batch, labels_batch in train_generator:\n",
    "    print('data batch shape:', data_batch.shape)\n",
    "    print('labels batch shape:', labels_batch.shape)\n",
    "    break"
   ]
  },
  {
   "cell_type": "code",
   "execution_count": 6,
   "metadata": {},
   "outputs": [],
   "source": [
    "label_map = (train_generator.class_indices)"
   ]
  },
  {
   "cell_type": "code",
   "execution_count": 7,
   "metadata": {},
   "outputs": [
    {
     "name": "stdout",
     "output_type": "stream",
     "text": [
      "Epoch 1/10\n",
      "30/30 [==============================] - 5s 160ms/step - loss: 0.9269 - acc: 0.5919 - val_loss: 0.6447 - val_acc: 0.7241\n",
      "Epoch 2/10\n",
      "30/30 [==============================] - 2s 73ms/step - loss: 0.4865 - acc: 0.8278 - val_loss: 0.5687 - val_acc: 0.7308\n",
      "Epoch 3/10\n",
      "30/30 [==============================] - 2s 75ms/step - loss: 0.3282 - acc: 0.8831 - val_loss: 0.2464 - val_acc: 0.9385\n",
      "Epoch 4/10\n",
      "30/30 [==============================] - 2s 75ms/step - loss: 0.2134 - acc: 0.9165 - val_loss: 0.2882 - val_acc: 0.8621\n",
      "Epoch 5/10\n",
      "30/30 [==============================] - 2s 74ms/step - loss: 0.1376 - acc: 0.9603 - val_loss: 0.1449 - val_acc: 0.9462\n",
      "Epoch 6/10\n",
      "30/30 [==============================] - 2s 75ms/step - loss: 0.1073 - acc: 0.9624 - val_loss: 0.0913 - val_acc: 0.9769\n",
      "Epoch 7/10\n",
      "30/30 [==============================] - 2s 75ms/step - loss: 0.1148 - acc: 0.9384 - val_loss: 0.1518 - val_acc: 0.9241\n",
      "Epoch 8/10\n",
      "30/30 [==============================] - 2s 74ms/step - loss: 0.0401 - acc: 0.9896 - val_loss: 0.0694 - val_acc: 0.9846\n",
      "Epoch 9/10\n",
      "30/30 [==============================] - 2s 74ms/step - loss: 0.0461 - acc: 0.9875 - val_loss: 0.0749 - val_acc: 0.9615\n",
      "Epoch 10/10\n",
      "30/30 [==============================] - 2s 75ms/step - loss: 0.0422 - acc: 0.9896 - val_loss: 0.0559 - val_acc: 0.9655\n"
     ]
    }
   ],
   "source": [
    "history = model.fit_generator(\n",
    "        train_generator,\n",
    "        steps_per_epoch=30,\n",
    "        epochs=10,\n",
    "        validation_data=validation_generator,\n",
    "        validation_steps=10) \n"
   ]
  },
  {
   "cell_type": "code",
   "execution_count": 8,
   "metadata": {},
   "outputs": [],
   "source": [
    "model.save('my_little_pony_scratch.h5')"
   ]
  },
  {
   "cell_type": "code",
   "execution_count": 9,
   "metadata": {},
   "outputs": [
    {
     "data": {
      "text/plain": [
       "<matplotlib.legend.Legend at 0x7fc984606b70>"
      ]
     },
     "execution_count": 9,
     "metadata": {},
     "output_type": "execute_result"
    }
   ],
   "source": [
    "import matplotlib.pyplot as plt\n",
    "import matplotlib.image as mpimg\n",
    "\n",
    "acc = history.history['acc']\n",
    "val_acc = history.history['val_acc']\n",
    "loss = history.history['loss']\n",
    "val_loss = history.history['val_loss']\n",
    "\n",
    "epochs = range(len(acc))\n",
    "\n",
    "plt.plot(epochs, acc, 'bo', label='Training acc')\n",
    "plt.plot(epochs, val_acc, 'b', label='Validation acc')\n",
    "plt.title('Training and validation accuracy')\n",
    "plt.legend()"
   ]
  },
  {
   "cell_type": "code",
   "execution_count": 10,
   "metadata": {},
   "outputs": [
    {
     "data": {
      "image/png": "[encoded data removed]",
      "text/plain": [
       "<Figure size 432x288 with 1 Axes>"
      ]
     },
     "metadata": {},
     "output_type": "display_data"
    },
    {
     "data": {
      "text/plain": [
       "<Figure size 432x288 with 0 Axes>"
      ]
     },
     "metadata": {},
     "output_type": "display_data"
    }
   ],
   "source": [
    "plt.plot(epochs, loss, 'bo', label='Training loss')\n",
    "plt.plot(epochs, val_loss, 'b', label='Validation loss')\n",
    "plt.title('Training and validation loss')\n",
    "plt.legend()\n",
    "plt.show()\n",
    "display()\n",
    "plt.clf()"
   ]
  },
  {
   "cell_type": "markdown",
   "metadata": {},
   "source": [
    "### Use our Pony CNN to score test images"
   ]
  },
  {
   "cell_type": "code",
   "execution_count": 11,
   "metadata": {},
   "outputs": [],
   "source": [
    "from keras.preprocessing import image\n",
    "import matplotlib.image as mpimg\n",
    "import numpy as np\n",
    "from keras.models import load_model\n",
    "\n",
    "def predict_image(image_url):\n",
    "  img = image.load_img(img_path, target_size=(150, 150))\n",
    "  x = image.img_to_array(img)\n",
    "  x = np.expand_dims(x, axis = 0)\n",
    "  x /= 255\n",
    "\n",
    "  model = load_model('my_little_pony_scratch.h5')\n",
    "\n",
    "  # retrieve the most likely result, e.g. highest probability\n",
    "\n",
    "  y_prob = model.predict(x) \n",
    "  y_classes = y_prob.argmax(axis=-1)\n",
    "\n",
    "  class_name = [k for k, v in label_map.items() if v == y_classes[0]]\n",
    "  # print the classification\n",
    "  print('Prediction: class: %s, score: (%.5f)' % (class_name[0], y_prob[0][0]))"
   ]
  },
  {
   "cell_type": "code",
   "execution_count": 12,
   "metadata": {
    "scrolled": true
   },
   "outputs": [
    {
     "name": "stdout",
     "output_type": "stream",
     "text": [
      "----------------CUSTOM MODEL -------------------\n",
      "processing image: images/ponies/test/Twilight-Sparkle-1.png\n",
      "Prediction: class: Twilight_Sparkle, score: (0.00001)\n",
      "-----------------------------------------------------\n",
      "processing image: images/ponies/test/Applejack3.png\n",
      "Prediction: class: Applejack, score: (0.99999)\n",
      "-----------------------------------------------------\n",
      "processing image: images/ponies/test/RainbowDash2.png\n",
      "Prediction: class: Rainbow_Dash, score: (0.00030)\n",
      "-----------------------------------------------------\n",
      "processing image: images/ponies/test/Twilight2.png\n",
      "Prediction: class: Twilight_Sparkle, score: (0.00001)\n",
      "-----------------------------------------------------\n",
      "processing image: images/ponies/test/Applejack1.png\n",
      "Prediction: class: Applejack, score: (0.99998)\n",
      "-----------------------------------------------------\n",
      "processing image: images/ponies/test/Applejack2.png\n",
      "Prediction: class: Applejack, score: (0.99996)\n",
      "-----------------------------------------------------\n",
      "processing image: images/ponies/test/RainbowDash-1.png\n",
      "Prediction: class: Rainbow_Dash, score: (0.00004)\n",
      "-----------------------------------------------------\n"
     ]
    }
   ],
   "source": [
    "import os\n",
    "#print(label_map)\n",
    "img_folder = \"images/ponies/test/\"\n",
    "print('----------------CUSTOM MODEL -------------------')\n",
    "for filename in os.listdir(img_folder):\n",
    "      img_path = os.path.join(img_folder,filename)\n",
    "      print ('processing image:', img_path)\n",
    "      predict_image(img_path)\n",
    "      print('-----------------------------------------------------')"
   ]
  },
  {
   "cell_type": "markdown",
   "metadata": {},
   "source": [
    "The End!"
   ]
  },
  {
   "cell_type": "code",
   "execution_count": null,
   "metadata": {},
   "outputs": [],
   "source": []
  }
 ],
 "metadata": {
  "kernelspec": {
   "display_name": "Python 3.5",
   "language": "python",
   "name": "python3"
  },
  "language_info": {
   "codemirror_mode": {
    "name": "ipython",
    "version": 3
   },
   "file_extension": ".py",
   "mimetype": "text/x-python",
   "name": "python",
   "nbconvert_exporter": "python",
   "pygments_lexer": "ipython3",
   "version": "3.5.5"
  }
 },
 "nbformat": 4,
 "nbformat_minor": 2
}
